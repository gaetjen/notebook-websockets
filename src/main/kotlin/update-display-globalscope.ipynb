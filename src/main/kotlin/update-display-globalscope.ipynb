{
 "cells": [
  {
   "cell_type": "code",
   "metadata": {
    "collapsed": true,
    "ExecuteTime": {
     "end_time": "2024-05-26T18:11:40.000624959Z",
     "start_time": "2024-05-26T18:11:39.680180138Z"
    }
   },
   "source": "%use coroutines",
   "outputs": [],
   "execution_count": 1
  },
  {
   "metadata": {},
   "cell_type": "markdown",
   "source": "### Can run background stuff with GlobalScope.launch"
  },
  {
   "metadata": {
    "ExecuteTime": {
     "end_time": "2024-05-26T18:20:15.226359216Z",
     "start_time": "2024-05-26T18:20:15.062752369Z"
    }
   },
   "cell_type": "code",
   "source": [
    "val list = mutableListOf(\"Start\")\n",
    "var job : Job? = null\n",
    "GlobalScope.launch { \n",
    "    job = launch {\n",
    "        while (true) {\n",
    "            delay(2500)\n",
    "            list.add(\"foobar\")\n",
    "        }\n",
    "    }\n",
    "}"
   ],
   "outputs": [
    {
     "data": {
      "text/plain": [
       "StandaloneCoroutine{Completing}@1c051051"
      ]
     },
     "execution_count": 14,
     "metadata": {},
     "output_type": "execute_result"
    }
   ],
   "execution_count": 14
  },
  {
   "metadata": {
    "ExecuteTime": {
     "end_time": "2024-05-26T18:20:25.735652115Z",
     "start_time": "2024-05-26T18:20:25.697036603Z"
    }
   },
   "cell_type": "code",
   "source": "list",
   "outputs": [
    {
     "data": {
      "text/plain": [
       "[Start, foobar, foobar, foobar, foobar]"
      ]
     },
     "execution_count": 16,
     "metadata": {},
     "output_type": "execute_result"
    }
   ],
   "execution_count": 16
  },
  {
   "metadata": {
    "ExecuteTime": {
     "end_time": "2024-05-26T18:20:28.276856899Z",
     "start_time": "2024-05-26T18:20:28.241581357Z"
    }
   },
   "cell_type": "code",
   "source": "job.cancel(\"manual stop\")",
   "outputs": [],
   "execution_count": 17
  },
  {
   "metadata": {},
   "cell_type": "markdown",
   "source": "### Can repeatedly update display with loop"
  },
  {
   "metadata": {
    "ExecuteTime": {
     "end_time": "2024-05-26T18:15:35.079283235Z",
     "start_time": "2024-05-26T18:15:35.038744231Z"
    }
   },
   "cell_type": "code",
   "source": [
    "val displayId = \"blockingDisplay\"\n",
    "DISPLAY(\"initial\", displayId)"
   ],
   "outputs": [
    {
     "data": {
      "text/plain": [
       "update #4"
      ]
     },
     "metadata": {},
     "output_type": "display_data"
    }
   ],
   "execution_count": 10
  },
  {
   "metadata": {
    "ExecuteTime": {
     "end_time": "2024-05-26T18:35:42.984409976Z",
     "start_time": "2024-05-26T18:35:30.410711102Z"
    }
   },
   "cell_type": "code",
   "source": [
    "var x = 0\n",
    "runBlocking { \n",
    "    while (x < 5) {\n",
    "        UPDATE_DISPLAY(\"update #${x++}\", displayId)\n",
    "        delay(2500)\n",
    "    }\n",
    "}"
   ],
   "outputs": [],
   "execution_count": 36
  },
  {
   "metadata": {},
   "cell_type": "markdown",
   "source": "### Updating display in coroutine fails"
  },
  {
   "metadata": {
    "ExecuteTime": {
     "end_time": "2024-05-26T19:07:17.281024803Z",
     "start_time": "2024-05-26T19:07:17.254933469Z"
    }
   },
   "cell_type": "code",
   "source": [
    "val globalDisplayId = \"GlobalScopDisplay\"\n",
    "DISPLAY(\"init\", globalDisplayId)"
   ],
   "outputs": [
    {
     "data": {
      "text/plain": [
       "before delay"
      ]
     },
     "metadata": {},
     "output_type": "display_data"
    }
   ],
   "execution_count": 60
  },
  {
   "metadata": {
    "ExecuteTime": {
     "end_time": "2024-05-26T19:08:13.781411777Z",
     "start_time": "2024-05-26T19:08:13.689176471Z"
    }
   },
   "cell_type": "code",
   "source": [
    "var runCount = 0\n",
    "var throwable: Throwable? = null\n",
    "GlobalScope.launch { \n",
    "    job = launch { \n",
    "        try {\n",
    "            while (true) {\n",
    "                UPDATE_DISPLAY(\"before delay\", globalDisplayId)\n",
    "                delay(2500)\n",
    "                UPDATE_DISPLAY(\"run count: ${runCount++}\", globalDisplayId)\n",
    "            }\n",
    "        } catch (t: Throwable) {\n",
    "            throwable = t\n",
    "        }\n",
    "    }\n",
    "}"
   ],
   "outputs": [
    {
     "data": {
      "text/plain": [
       "StandaloneCoroutine{Completing}@6e250df8"
      ]
     },
     "execution_count": 75,
     "metadata": {},
     "output_type": "execute_result"
    }
   ],
   "execution_count": 75
  },
  {
   "metadata": {
    "ExecuteTime": {
     "end_time": "2024-05-26T19:08:15.849994805Z",
     "start_time": "2024-05-26T19:08:15.827231033Z"
    }
   },
   "cell_type": "code",
   "source": "job",
   "outputs": [
    {
     "data": {
      "text/plain": [
       "StandaloneCoroutine{Active}@9ae4d2e"
      ]
     },
     "execution_count": 76,
     "metadata": {},
     "output_type": "execute_result"
    }
   ],
   "execution_count": 76
  },
  {
   "metadata": {
    "ExecuteTime": {
     "end_time": "2024-05-26T19:08:16.892396392Z",
     "start_time": "2024-05-26T19:08:16.866896342Z"
    }
   },
   "cell_type": "code",
   "source": "runCount",
   "outputs": [
    {
     "data": {
      "text/plain": [
       "1"
      ]
     },
     "execution_count": 77,
     "metadata": {},
     "output_type": "execute_result"
    }
   ],
   "execution_count": 77
  },
  {
   "metadata": {
    "ExecuteTime": {
     "end_time": "2024-05-26T19:08:18.219442436Z",
     "start_time": "2024-05-26T19:08:18.190312287Z"
    }
   },
   "cell_type": "code",
   "source": "throwable?.stackTrace",
   "outputs": [
    {
     "data": {
      "text/plain": [
       "[jupyter.kotlin.CellExtensionsKt.getHost(CellExtensions.kt:17), jupyter.kotlin.CellExtensionsKt.UPDATE_DISPLAY(CellExtensions.kt:30), Line_78_jupyter$res78$1$1.invokeSuspend(Line_78.jupyter.kts:9), kotlin.coroutines.jvm.internal.BaseContinuationImpl.resumeWith(ContinuationImpl.kt:33), kotlinx.coroutines.DispatchedTask.run(DispatchedTask.kt:104), kotlinx.coroutines.scheduling.CoroutineScheduler.runSafely(CoroutineScheduler.kt:584), kotlinx.coroutines.scheduling.CoroutineScheduler$Worker.executeTask(CoroutineScheduler.kt:811), kotlinx.coroutines.scheduling.CoroutineScheduler$Worker.runWorker(CoroutineScheduler.kt:715), kotlinx.coroutines.scheduling.CoroutineScheduler$Worker.run(CoroutineScheduler.kt:702)]"
      ]
     },
     "execution_count": 78,
     "metadata": {},
     "output_type": "execute_result"
    }
   ],
   "execution_count": 78
  },
  {
   "metadata": {},
   "cell_type": "code",
   "outputs": [],
   "execution_count": null,
   "source": ""
  }
 ],
 "metadata": {
  "kernelspec": {
   "display_name": "Kotlin",
   "language": "kotlin",
   "name": "kotlin"
  },
  "language_info": {
   "name": "kotlin",
   "version": "1.9.23",
   "mimetype": "text/x-kotlin",
   "file_extension": ".kt",
   "pygments_lexer": "kotlin",
   "codemirror_mode": "text/x-kotlin",
   "nbconvert_exporter": ""
  }
 },
 "nbformat": 4,
 "nbformat_minor": 0
}
