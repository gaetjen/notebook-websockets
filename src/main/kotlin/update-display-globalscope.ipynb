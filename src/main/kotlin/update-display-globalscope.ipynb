{
 "cells": [
  {
   "cell_type": "code",
   "metadata": {
    "collapsed": true,
    "ExecuteTime": {
     "end_time": "2024-05-26T18:11:40.000624959Z",
     "start_time": "2024-05-26T18:11:39.680180138Z"
    }
   },
   "source": "%use coroutines",
   "outputs": [],
   "execution_count": 1
  },
  {
   "metadata": {},
   "cell_type": "markdown",
   "source": "### Can run background stuff with GlobalScope.launch"
  },
  {
   "metadata": {
    "ExecuteTime": {
     "end_time": "2024-05-26T18:20:15.226359216Z",
     "start_time": "2024-05-26T18:20:15.062752369Z"
    }
   },
   "cell_type": "code",
   "source": [
    "val list = mutableListOf(\"Start\")\n",
    "var job : Job? = null\n",
    "GlobalScope.launch { \n",
    "    job = launch {\n",
    "        while (true) {\n",
    "            delay(2500)\n",
    "            list.add(\"foobar\")\n",
    "        }\n",
    "    }\n",
    "}"
   ],
   "outputs": [
    {
     "data": {
      "text/plain": [
       "StandaloneCoroutine{Completing}@1c051051"
      ]
     },
     "execution_count": 14,
     "metadata": {},
     "output_type": "execute_result"
    }
   ],
   "execution_count": 14
  },
  {
   "metadata": {
    "ExecuteTime": {
     "end_time": "2024-05-26T18:20:25.735652115Z",
     "start_time": "2024-05-26T18:20:25.697036603Z"
    }
   },
   "cell_type": "code",
   "source": "list",
   "outputs": [
    {
     "data": {
      "text/plain": [
       "[Start, foobar, foobar, foobar, foobar]"
      ]
     },
     "execution_count": 16,
     "metadata": {},
     "output_type": "execute_result"
    }
   ],
   "execution_count": 16
  },
  {
   "metadata": {
    "ExecuteTime": {
     "end_time": "2024-05-26T18:20:28.276856899Z",
     "start_time": "2024-05-26T18:20:28.241581357Z"
    }
   },
   "cell_type": "code",
   "source": "job.cancel(\"manual stop\")",
   "outputs": [],
   "execution_count": 17
  },
  {
   "metadata": {},
   "cell_type": "markdown",
   "source": "### Can repeatedly update display with loop"
  },
  {
   "metadata": {
    "ExecuteTime": {
     "end_time": "2024-05-26T18:15:35.079283235Z",
     "start_time": "2024-05-26T18:15:35.038744231Z"
    }
   },
   "cell_type": "code",
   "source": [
    "val displayId = \"blockingDisplay\"\n",
    "DISPLAY(\"initial\", displayId)"
   ],
   "outputs": [
    {
     "data": {
      "text/plain": [
       "update #4"
      ]
     },
     "metadata": {},
     "output_type": "display_data"
    }
   ],
   "execution_count": 10
  },
  {
   "metadata": {
    "ExecuteTime": {
     "end_time": "2024-05-26T18:35:42.984409976Z",
     "start_time": "2024-05-26T18:35:30.410711102Z"
    }
   },
   "cell_type": "code",
   "source": [
    "var x = 0\n",
    "runBlocking { \n",
    "    while (x < 5) {\n",
    "        UPDATE_DISPLAY(\"update #${x++}\", displayId)\n",
    "        delay(2500)\n",
    "    }\n",
    "}"
   ],
   "outputs": [],
   "execution_count": 36
  },
  {
   "metadata": {},
   "cell_type": "markdown",
   "source": "### Updating display in coroutine fails"
  },
  {
   "metadata": {
    "ExecuteTime": {
     "end_time": "2024-05-26T20:04:52.282149136Z",
     "start_time": "2024-05-26T20:04:52.216788818Z"
    }
   },
   "cell_type": "code",
   "source": [
    "val globalDisplayId = \"GlobalScopDisplay\"\n",
    "DISPLAY(\"init\", globalDisplayId)"
   ],
   "outputs": [
    {
     "data": {
      "text/plain": [
       "before delay"
      ]
     },
     "metadata": {},
     "output_type": "display_data"
    }
   ],
   "execution_count": 96
  },
  {
   "metadata": {
    "ExecuteTime": {
     "end_time": "2024-05-26T20:04:53.904010182Z",
     "start_time": "2024-05-26T20:04:53.694372677Z"
    }
   },
   "cell_type": "code",
   "source": [
    "var runCount = 0\n",
    "var throwable: Throwable? = null\n",
    "GlobalScope.launch { \n",
    "    job = launch { \n",
    "        try {\n",
    "            while (true) {\n",
    "                UPDATE_DISPLAY(\"before delay\", globalDisplayId)\n",
    "                delay(2500)\n",
    "                UPDATE_DISPLAY(\"run count: ${runCount++}\", globalDisplayId)\n",
    "            }\n",
    "        } catch (t: Throwable) {\n",
    "            throwable = t\n",
    "        }\n",
    "    }\n",
    "}"
   ],
   "outputs": [
    {
     "data": {
      "text/plain": [
       "StandaloneCoroutine{Completing}@d9a03f4"
      ]
     },
     "execution_count": 97,
     "metadata": {},
     "output_type": "execute_result"
    }
   ],
   "execution_count": 97
  },
  {
   "metadata": {
    "ExecuteTime": {
     "end_time": "2024-05-26T20:04:57.204370246Z",
     "start_time": "2024-05-26T20:04:57.141201538Z"
    }
   },
   "cell_type": "code",
   "source": "job",
   "outputs": [
    {
     "data": {
      "text/plain": [
       "StandaloneCoroutine{Completed}@3c461982"
      ]
     },
     "execution_count": 98,
     "metadata": {},
     "output_type": "execute_result"
    }
   ],
   "execution_count": 98
  },
  {
   "metadata": {
    "ExecuteTime": {
     "end_time": "2024-05-26T20:04:59.135330157Z",
     "start_time": "2024-05-26T20:04:59.100029568Z"
    }
   },
   "cell_type": "code",
   "source": "runCount",
   "outputs": [
    {
     "data": {
      "text/plain": [
       "1"
      ]
     },
     "execution_count": 99,
     "metadata": {},
     "output_type": "execute_result"
    }
   ],
   "execution_count": 99
  },
  {
   "metadata": {
    "ExecuteTime": {
     "end_time": "2024-05-26T20:05:05.319624214Z",
     "start_time": "2024-05-26T20:05:05.285403366Z"
    }
   },
   "cell_type": "code",
   "source": "throwable?.stackTrace",
   "outputs": [
    {
     "data": {
      "text/plain": [
       "[jupyter.kotlin.CellExtensionsKt.getHost(CellExtensions.kt:17), jupyter.kotlin.CellExtensionsKt.UPDATE_DISPLAY(CellExtensions.kt:30), Line_102_jupyter$res102$1$1.invokeSuspend(Line_102.jupyter.kts:9), kotlin.coroutines.jvm.internal.BaseContinuationImpl.resumeWith(ContinuationImpl.kt:33), kotlinx.coroutines.DispatchedTask.run(DispatchedTask.kt:104), kotlinx.coroutines.scheduling.CoroutineScheduler.runSafely(CoroutineScheduler.kt:584), kotlinx.coroutines.scheduling.CoroutineScheduler$Worker.executeTask(CoroutineScheduler.kt:811), kotlinx.coroutines.scheduling.CoroutineScheduler$Worker.runWorker(CoroutineScheduler.kt:715), kotlinx.coroutines.scheduling.CoroutineScheduler$Worker.run(CoroutineScheduler.kt:702)]"
      ]
     },
     "execution_count": 100,
     "metadata": {},
     "output_type": "execute_result"
    }
   ],
   "execution_count": 100
  },
  {
   "metadata": {},
   "cell_type": "markdown",
   "source": "### Can save host reference but then display isn't updated"
  },
  {
   "metadata": {
    "ExecuteTime": {
     "end_time": "2024-05-26T20:06:56.140089459Z",
     "start_time": "2024-05-26T20:06:56.104719993Z"
    }
   },
   "cell_type": "code",
   "source": [
    "val fixedHostDisplayId = \"fixedHost\"\n",
    "DISPLAY(\"init\", fixedHostDisplayId)"
   ],
   "outputs": [
    {
     "data": {
      "text/plain": [
       "before delay"
      ]
     },
     "metadata": {},
     "output_type": "display_data"
    }
   ],
   "execution_count": 110
  },
  {
   "metadata": {
    "ExecuteTime": {
     "end_time": "2024-05-26T20:06:57.229273312Z",
     "start_time": "2024-05-26T20:06:57.074385576Z"
    }
   },
   "cell_type": "code",
   "source": [
    "val host = notebook.executionHost!!\n",
    "var runCount = 0\n",
    "var throwable: Throwable? = null\n",
    "GlobalScope.launch {\n",
    "    job = launch {\n",
    "        try {\n",
    "            while (true) {\n",
    "                host.updateDisplay(\"before delay\", fixedHostDisplayId)\n",
    "                delay(2500)\n",
    "                host.updateDisplay(\"run count: ${runCount++}\", fixedHostDisplayId)\n",
    "            }\n",
    "        } catch (t: Throwable) {\n",
    "            throwable = t\n",
    "        }\n",
    "    }\n",
    "}"
   ],
   "outputs": [
    {
     "data": {
      "text/plain": [
       "StandaloneCoroutine{Completing}@3c5b7ac1"
      ]
     },
     "execution_count": 111,
     "metadata": {},
     "output_type": "execute_result"
    }
   ],
   "execution_count": 111
  },
  {
   "metadata": {
    "ExecuteTime": {
     "end_time": "2024-05-26T20:07:00.317027984Z",
     "start_time": "2024-05-26T20:07:00.287211836Z"
    }
   },
   "cell_type": "code",
   "source": "job",
   "outputs": [
    {
     "data": {
      "text/plain": [
       "StandaloneCoroutine{Active}@535c88df"
      ]
     },
     "execution_count": 112,
     "metadata": {},
     "output_type": "execute_result"
    }
   ],
   "execution_count": 112
  },
  {
   "metadata": {
    "ExecuteTime": {
     "end_time": "2024-05-26T20:07:10.180768723Z",
     "start_time": "2024-05-26T20:07:10.139423264Z"
    }
   },
   "cell_type": "code",
   "source": "runCount",
   "outputs": [
    {
     "data": {
      "text/plain": [
       "5"
      ]
     },
     "execution_count": 115,
     "metadata": {},
     "output_type": "execute_result"
    }
   ],
   "execution_count": 115
  },
  {
   "metadata": {
    "ExecuteTime": {
     "end_time": "2024-05-26T20:07:10.973215661Z",
     "start_time": "2024-05-26T20:07:10.931705151Z"
    }
   },
   "cell_type": "code",
   "source": "job.cancel()",
   "outputs": [],
   "execution_count": 116
  },
  {
   "metadata": {},
   "cell_type": "code",
   "outputs": [],
   "execution_count": null,
   "source": ""
  }
 ],
 "metadata": {
  "kernelspec": {
   "display_name": "Kotlin",
   "language": "kotlin",
   "name": "kotlin"
  },
  "language_info": {
   "name": "kotlin",
   "version": "1.9.23",
   "mimetype": "text/x-kotlin",
   "file_extension": ".kt",
   "pygments_lexer": "kotlin",
   "codemirror_mode": "text/x-kotlin",
   "nbconvert_exporter": ""
  }
 },
 "nbformat": 4,
 "nbformat_minor": 0
}
