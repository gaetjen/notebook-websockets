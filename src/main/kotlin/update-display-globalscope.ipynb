{
 "cells": [
  {
   "cell_type": "code",
   "metadata": {
    "collapsed": true,
    "ExecuteTime": {
     "end_time": "2024-05-26T18:11:40.000624959Z",
     "start_time": "2024-05-26T18:11:39.680180138Z"
    }
   },
   "source": "%use coroutines",
   "outputs": [],
   "execution_count": 1
  },
  {
   "metadata": {},
   "cell_type": "markdown",
   "source": "### Can run background stuff with GlobalScope.launch"
  },
  {
   "metadata": {
    "ExecuteTime": {
     "end_time": "2024-05-26T18:20:15.226359216Z",
     "start_time": "2024-05-26T18:20:15.062752369Z"
    }
   },
   "cell_type": "code",
   "source": [
    "val list = mutableListOf(\"Start\")\n",
    "var job : Job? = null\n",
    "GlobalScope.launch { \n",
    "    job = launch {\n",
    "        while (true) {\n",
    "            delay(2500)\n",
    "            list.add(\"foobar\")\n",
    "        }\n",
    "    }\n",
    "}"
   ],
   "outputs": [
    {
     "data": {
      "text/plain": [
       "StandaloneCoroutine{Completing}@1c051051"
      ]
     },
     "execution_count": 14,
     "metadata": {},
     "output_type": "execute_result"
    }
   ],
   "execution_count": 14
  },
  {
   "metadata": {
    "ExecuteTime": {
     "end_time": "2024-05-26T18:20:25.735652115Z",
     "start_time": "2024-05-26T18:20:25.697036603Z"
    }
   },
   "cell_type": "code",
   "source": "list",
   "outputs": [
    {
     "data": {
      "text/plain": [
       "[Start, foobar, foobar, foobar, foobar]"
      ]
     },
     "execution_count": 16,
     "metadata": {},
     "output_type": "execute_result"
    }
   ],
   "execution_count": 16
  },
  {
   "metadata": {
    "ExecuteTime": {
     "end_time": "2024-05-26T18:20:28.276856899Z",
     "start_time": "2024-05-26T18:20:28.241581357Z"
    }
   },
   "cell_type": "code",
   "source": "job.cancel(\"manual stop\")",
   "outputs": [],
   "execution_count": 17
  },
  {
   "metadata": {},
   "cell_type": "markdown",
   "source": "### Can repeatedly update display with loop"
  },
  {
   "metadata": {
    "ExecuteTime": {
     "end_time": "2024-05-26T18:15:35.079283235Z",
     "start_time": "2024-05-26T18:15:35.038744231Z"
    }
   },
   "cell_type": "code",
   "source": [
    "val displayId = \"blockingDisplay\"\n",
    "DISPLAY(\"initial\", displayId)"
   ],
   "outputs": [
    {
     "data": {
      "text/plain": [
       "update #4"
      ]
     },
     "metadata": {},
     "output_type": "display_data"
    }
   ],
   "execution_count": 10
  },
  {
   "metadata": {
    "ExecuteTime": {
     "end_time": "2024-05-26T18:35:42.984409976Z",
     "start_time": "2024-05-26T18:35:30.410711102Z"
    }
   },
   "cell_type": "code",
   "source": [
    "var x = 0\n",
    "runBlocking { \n",
    "    while (x < 5) {\n",
    "        UPDATE_DISPLAY(\"update #${x++}\", displayId)\n",
    "        delay(2500)\n",
    "    }\n",
    "}"
   ],
   "outputs": [],
   "execution_count": 36
  },
  {
   "metadata": {},
   "cell_type": "markdown",
   "source": "### Updating display in coroutine fails"
  },
  {
   "metadata": {
    "ExecuteTime": {
     "end_time": "2024-05-26T18:39:27.729106872Z",
     "start_time": "2024-05-26T18:39:27.699178131Z"
    }
   },
   "cell_type": "code",
   "source": [
    "val globalDisplayId = \"GlobalScopDisplay\"\n",
    "DISPLAY(\"init\", globalDisplayId)"
   ],
   "outputs": [
    {
     "data": {
      "text/plain": [
       "run count: 0"
      ]
     },
     "metadata": {},
     "output_type": "display_data"
    }
   ],
   "execution_count": 38
  },
  {
   "metadata": {
    "ExecuteTime": {
     "end_time": "2024-05-26T18:39:29.380949508Z",
     "start_time": "2024-05-26T18:39:29.292040633Z"
    }
   },
   "cell_type": "code",
   "source": [
    "var runCount = 0\n",
    "GlobalScope.launch { \n",
    "    job = launch { \n",
    "        while (true) {\n",
    "            UPDATE_DISPLAY(\"run count: ${runCount++}\", globalDisplayId)\n",
    "            delay(2500)\n",
    "        }\n",
    "    }\n",
    "}"
   ],
   "outputs": [
    {
     "data": {
      "text/plain": [
       "StandaloneCoroutine{Completing}@49e9bd26"
      ]
     },
     "execution_count": 39,
     "metadata": {},
     "output_type": "execute_result"
    }
   ],
   "execution_count": 39
  },
  {
   "metadata": {
    "ExecuteTime": {
     "end_time": "2024-05-26T18:39:36.599685368Z",
     "start_time": "2024-05-26T18:39:36.568144438Z"
    }
   },
   "cell_type": "code",
   "source": "job",
   "outputs": [
    {
     "data": {
      "text/plain": [
       "StandaloneCoroutine{Cancelled}@19f94312"
      ]
     },
     "execution_count": 41,
     "metadata": {},
     "output_type": "execute_result"
    }
   ],
   "execution_count": 41
  },
  {
   "metadata": {
    "ExecuteTime": {
     "end_time": "2024-05-26T18:39:39.083863455Z",
     "start_time": "2024-05-26T18:39:39.054147855Z"
    }
   },
   "cell_type": "code",
   "source": "runCount",
   "outputs": [
    {
     "data": {
      "text/plain": [
       "2"
      ]
     },
     "execution_count": 42,
     "metadata": {},
     "output_type": "execute_result"
    }
   ],
   "execution_count": 42
  },
  {
   "metadata": {},
   "cell_type": "code",
   "outputs": [],
   "execution_count": null,
   "source": ""
  }
 ],
 "metadata": {
  "kernelspec": {
   "display_name": "Kotlin",
   "language": "kotlin",
   "name": "kotlin"
  },
  "language_info": {
   "name": "kotlin",
   "version": "1.9.23",
   "mimetype": "text/x-kotlin",
   "file_extension": ".kt",
   "pygments_lexer": "kotlin",
   "codemirror_mode": "text/x-kotlin",
   "nbconvert_exporter": ""
  }
 },
 "nbformat": 4,
 "nbformat_minor": 0
}
